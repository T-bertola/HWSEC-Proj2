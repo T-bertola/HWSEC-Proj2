{
 "cells": [
  {
   "cell_type": "markdown",
   "metadata": {},
   "source": [
    "# Step 3: DPA on Firmware Implementation of AES"
   ]
  },
  {
   "cell_type": "markdown",
   "metadata": {},
   "source": [
    "**SUMMARY:** *In the previous step, you saw how a single bit of information can be used to recover an entire byte of the AES key. Remember, this works due to the S-Box being present in the data flow that we are attacking.*\n",
    "\n",
    "*Next, we'll see how to use power analysis instead of an actual bit value. With this technique, the goal is to separate the traces by a bit in the result of the SBox output (it doesn't matter which one): if that bit is 1, its group of traces should, on average, have higher power consumption during the SBox operation than the other set.*\n",
    "\n",
    "*This is all based on the assumption we discussed in the slides and saw in earlier labs: there is some consistent relationship between the value of bits on the data bus and the power consumption in the device.*\n",
    "\n",
    "**LEARNING OUTCOMES:**\n",
    "\n",
    "* Using a power measurement to 'validate' a possible device model.\n",
    "* Detecting the value of a single bit using power measurement.\n",
    "* Breaking AES using the classic DPA attack.\n"
   ]
  },
  {
   "cell_type": "code",
   "execution_count": 27,
   "metadata": {},
   "outputs": [],
   "source": [
    "SCOPETYPE = 'OPENADC'\n",
    "PLATFORM = 'CWNANO'\n",
    "CRYPTO_TARGET = 'TINYAES128C'\n",
    "SS_VER = 'SS_VER_2_1'"
   ]
  },
  {
   "cell_type": "code",
   "execution_count": 28,
   "metadata": {
    "scrolled": true
   },
   "outputs": [
    {
     "name": "stdout",
     "output_type": "stream",
     "text": [
      "INFO: Caught exception on reconnecting to target - attempting to reconnect to scope first.\n",
      "INFO: This is a work-around when USB has died without Python knowing. Ignore errors above this line.\n",
      "INFO: Found ChipWhisperer😍\n"
     ]
    }
   ],
   "source": [
    "%run \"Setup_Scripts/Setup_Generic.ipynb\""
   ]
  },
  {
   "cell_type": "code",
   "execution_count": 29,
   "metadata": {},
   "outputs": [
    {
     "name": "stdout",
     "output_type": "stream",
     "text": [
      "Building for platform CWNANO with CRYPTO_TARGET=TINYAES128C\n",
      "SS_VER set to SS_VER_2_1\n",
      "SS_VER set to SS_VER_2_1\n",
      "Blank crypto options, building for AES128\n",
      "Building for platform CWNANO with CRYPTO_TARGET=TINYAES128C\n",
      "SS_VER set to SS_VER_2_1\n",
      "SS_VER set to SS_VER_2_1\n",
      "Blank crypto options, building for AES128\n",
      "make[1]: '.dep' is up to date.\n",
      "Building for platform CWNANO with CRYPTO_TARGET=TINYAES128C\n",
      "SS_VER set to SS_VER_2_1\n",
      "SS_VER set to SS_VER_2_1\n",
      "Blank crypto options, building for AES128\n",
      "arm-none-eabi-gcc (15:13.2.rel1-2) 13.2.1 20231009\n",
      "Copyright (C) 2023 Free Software Foundation, Inc.\n",
      "This is free software; see the source for copying conditions.  There is NO\n",
      "warranty; not even for MERCHANTABILITY or FITNESS FOR A PARTICULAR PURPOSE.\n",
      "\n",
      ".\n",
      "Welcome to another exciting ChipWhisperer target build!!\n",
      ".\n",
      "Assembling: .././hal/stm32f0/stm32f0_startup.S\n",
      "arm-none-eabi-gcc -c -mcpu=cortex-m0 -I. -x assembler-with-cpp -mthumb -mfloat-abi=soft -ffunction-sections -DF_CPU=7372800 -Wa,-gstabs,-adhlns=objdir-CWNANO/stm32f0_startup.lst -I.././simpleserial/ -I.././simpleserial/ -I.././hal -I.././hal/stm32f0 -I.././hal/stm32f0/CMSIS -I.././hal/stm32f0/CMSIS/core -I.././hal/stm32f0/CMSIS/device -I.././hal/stm32f0/Legacy -I.././crypto/ -I.././crypto/tiny-AES128-C .././hal/stm32f0/stm32f0_startup.S -o objdir-CWNANO/stm32f0_startup.o\n",
      ".\n",
      "Compiling:\n",
      "-en     .././crypto/aes-independant.c ...\n",
      "-e Done!\n",
      ".\n",
      "Compiling:\n",
      "-en     .././simpleserial/simpleserial.c ...\n",
      "-e Done!\n",
      ".\n",
      "Compiling:\n",
      "-en     .././hal/stm32f0_nano/stm32f0_hal_nano.c ...\n",
      "-e Done!\n",
      ".\n",
      "Compiling:\n",
      "-en     simpleserial-aes.c ...\n",
      "-e Done!\n",
      ".\n",
      "Compiling:\n",
      "-en     .././crypto/tiny-AES128-C/aes.c ...\n",
      "-e Done!\n",
      ".\n",
      "Compiling:\n",
      "-en     .././hal/stm32f0/stm32f0_hal_lowlevel.c ...\n",
      "-e Done!\n",
      ".\n",
      "LINKING:\n",
      "-en     simpleserial-aes-CWNANO.elf ...\n",
      "/usr/lib/gcc/arm-none-eabi/13.2.1/../../../arm-none-eabi/bin/ld: /usr/lib/gcc/arm-none-eabi/13.2.1/../../../arm-none-eabi/lib/thumb/v6-m/nofp/libg_nano.a(libc_a-closer.o): note: the message above does not take linker garbage collection into account\n",
      "/usr/lib/gcc/arm-none-eabi/13.2.1/../../../arm-none-eabi/bin/ld: /usr/lib/gcc/arm-none-eabi/13.2.1/../../../arm-none-eabi/lib/thumb/v6-m/nofp/libg_nano.a(libc_a-fstatr.o): note: the message above does not take linker garbage collection into account\n",
      "/usr/lib/gcc/arm-none-eabi/13.2.1/../../../arm-none-eabi/bin/ld: /usr/lib/gcc/arm-none-eabi/13.2.1/../../../arm-none-eabi/lib/thumb/v6-m/nofp/libg_nano.a(libc_a-signalr.o): note: the message above does not take linker garbage collection into account\n",
      "/usr/lib/gcc/arm-none-eabi/13.2.1/../../../arm-none-eabi/bin/ld: /usr/lib/gcc/arm-none-eabi/13.2.1/../../../arm-none-eabi/lib/thumb/v6-m/nofp/libg_nano.a(libc_a-gettimeofdayr.o): note: the message above does not take linker garbage collection into account\n",
      "/usr/lib/gcc/arm-none-eabi/13.2.1/../../../arm-none-eabi/bin/ld: /usr/lib/gcc/arm-none-eabi/13.2.1/../../../arm-none-eabi/lib/thumb/v6-m/nofp/libg_nano.a(libc_a-isattyr.o): note: the message above does not take linker garbage collection into account\n",
      "/usr/lib/gcc/arm-none-eabi/13.2.1/../../../arm-none-eabi/bin/ld: /usr/lib/gcc/arm-none-eabi/13.2.1/../../../arm-none-eabi/lib/thumb/v6-m/nofp/libg_nano.a(libc_a-signalr.o): note: the message above does not take linker garbage collection into account\n",
      "/usr/lib/gcc/arm-none-eabi/13.2.1/../../../arm-none-eabi/bin/ld: /usr/lib/gcc/arm-none-eabi/13.2.1/../../../arm-none-eabi/lib/thumb/v6-m/nofp/libg_nano.a(libc_a-lseekr.o): note: the message above does not take linker garbage collection into account\n",
      "/usr/lib/gcc/arm-none-eabi/13.2.1/../../../arm-none-eabi/bin/ld: /usr/lib/gcc/arm-none-eabi/13.2.1/../../../arm-none-eabi/lib/thumb/v6-m/nofp/libg_nano.a(libc_a-readr.o): note: the message above does not take linker garbage collection into account\n",
      "/usr/lib/gcc/arm-none-eabi/13.2.1/../../../arm-none-eabi/bin/ld: /usr/lib/gcc/arm-none-eabi/13.2.1/../../../arm-none-eabi/lib/thumb/v6-m/nofp/libg_nano.a(libc_a-writer.o): note: the message above does not take linker garbage collection into account\n",
      "-e Done!\n"
     ]
    },
    {
     "name": "stderr",
     "output_type": "stream",
     "text": [
      "/usr/lib/gcc/arm-none-eabi/13.2.1/../../../arm-none-eabi/bin/ld: /usr/lib/gcc/arm-none-eabi/13.2.1/../../../arm-none-eabi/lib/thumb/v6-m/nofp/libg_nano.a(libc_a-closer.o): in function `_close_r':\n",
      "/build/newlib-38V0JC/newlib-4.4.0.20231231/build_nano/arm-none-eabi/thumb/v6-m/nofp/newlib/../../../../../../newlib/libc/reent/closer.c:47:(.text+0xc): warning: _close is not implemented and will always fail\n",
      "/usr/lib/gcc/arm-none-eabi/13.2.1/../../../arm-none-eabi/bin/ld: /usr/lib/gcc/arm-none-eabi/13.2.1/../../../arm-none-eabi/lib/thumb/v6-m/nofp/libg_nano.a(libc_a-fstatr.o): in function `_fstat_r':\n",
      "/build/newlib-38V0JC/newlib-4.4.0.20231231/build_nano/arm-none-eabi/thumb/v6-m/nofp/newlib/../../../../../../newlib/libc/reent/fstatr.c:55:(.text+0xe): warning: _fstat is not implemented and will always fail\n",
      "/usr/lib/gcc/arm-none-eabi/13.2.1/../../../arm-none-eabi/bin/ld: /usr/lib/gcc/arm-none-eabi/13.2.1/../../../arm-none-eabi/lib/thumb/v6-m/nofp/libg_nano.a(libc_a-signalr.o): in function `_getpid_r':\n",
      "/build/newlib-38V0JC/newlib-4.4.0.20231231/build_nano/arm-none-eabi/thumb/v6-m/nofp/newlib/../../../../../../newlib/libc/reent/signalr.c:83:(.text+0x2a): warning: _getpid is not implemented and will always fail\n",
      "/usr/lib/gcc/arm-none-eabi/13.2.1/../../../arm-none-eabi/bin/ld: /usr/lib/gcc/arm-none-eabi/13.2.1/../../../arm-none-eabi/lib/thumb/v6-m/nofp/libg_nano.a(libc_a-gettimeofdayr.o): in function `_gettimeofday_r':\n",
      "/build/newlib-38V0JC/newlib-4.4.0.20231231/build_nano/arm-none-eabi/thumb/v6-m/nofp/newlib/../../../../../../newlib/libc/reent/gettimeofdayr.c:62:(.text+0xe): warning: _gettimeofday is not implemented and will always fail\n",
      "/usr/lib/gcc/arm-none-eabi/13.2.1/../../../arm-none-eabi/bin/ld: /usr/lib/gcc/arm-none-eabi/13.2.1/../../../arm-none-eabi/lib/thumb/v6-m/nofp/libg_nano.a(libc_a-isattyr.o): in function `_isatty_r':\n",
      "/build/newlib-38V0JC/newlib-4.4.0.20231231/build_nano/arm-none-eabi/thumb/v6-m/nofp/newlib/../../../../../../newlib/libc/reent/isattyr.c:52:(.text+0xc): warning: _isatty is not implemented and will always fail\n",
      "/usr/lib/gcc/arm-none-eabi/13.2.1/../../../arm-none-eabi/bin/ld: /usr/lib/gcc/arm-none-eabi/13.2.1/../../../arm-none-eabi/lib/thumb/v6-m/nofp/libg_nano.a(libc_a-signalr.o): in function `_kill_r':\n",
      "/build/newlib-38V0JC/newlib-4.4.0.20231231/build_nano/arm-none-eabi/thumb/v6-m/nofp/newlib/../../../../../../newlib/libc/reent/signalr.c:53:(.text+0xe): warning: _kill is not implemented and will always fail\n",
      "/usr/lib/gcc/arm-none-eabi/13.2.1/../../../arm-none-eabi/bin/ld: /usr/lib/gcc/arm-none-eabi/13.2.1/../../../arm-none-eabi/lib/thumb/v6-m/nofp/libg_nano.a(libc_a-lseekr.o): in function `_lseek_r':\n",
      "/build/newlib-38V0JC/newlib-4.4.0.20231231/build_nano/arm-none-eabi/thumb/v6-m/nofp/newlib/../../../../../../newlib/libc/reent/lseekr.c:49:(.text+0x10): warning: _lseek is not implemented and will always fail\n",
      "/usr/lib/gcc/arm-none-eabi/13.2.1/../../../arm-none-eabi/bin/ld: /usr/lib/gcc/arm-none-eabi/13.2.1/../../../arm-none-eabi/lib/thumb/v6-m/nofp/libg_nano.a(libc_a-readr.o): in function `_read_r':\n",
      "/build/newlib-38V0JC/newlib-4.4.0.20231231/build_nano/arm-none-eabi/thumb/v6-m/nofp/newlib/../../../../../../newlib/libc/reent/readr.c:49:(.text+0x10): warning: _read is not implemented and will always fail\n",
      "/usr/lib/gcc/arm-none-eabi/13.2.1/../../../arm-none-eabi/bin/ld: /usr/lib/gcc/arm-none-eabi/13.2.1/../../../arm-none-eabi/lib/thumb/v6-m/nofp/libg_nano.a(libc_a-writer.o): in function `_write_r':\n",
      "/build/newlib-38V0JC/newlib-4.4.0.20231231/build_nano/arm-none-eabi/thumb/v6-m/nofp/newlib/../../../../../../newlib/libc/reent/writer.c:49:(.text+0x10): warning: _write is not implemented and will always fail\n"
     ]
    },
    {
     "name": "stdout",
     "output_type": "stream",
     "text": [
      ".\n",
      "Creating load file for EEPROM: simpleserial-aes-CWNANO.eep\n",
      "arm-none-eabi-objcopy -j .eeprom --set-section-flags=.eeprom=\"alloc,load\" \\\n",
      "--change-section-lma .eeprom=0 --no-change-warnings -O ihex simpleserial-aes-CWNANO.elf simpleserial-aes-CWNANO.eep || exit 0\n",
      ".\n",
      "Creating Symbol Table: simpleserial-aes-CWNANO.sym\n",
      "arm-none-eabi-nm -n simpleserial-aes-CWNANO.elf > simpleserial-aes-CWNANO.sym\n",
      ".\n",
      "Creating load file for Flash: simpleserial-aes-CWNANO.hex\n",
      "arm-none-eabi-objcopy -O ihex -R .eeprom -R .fuse -R .lock -R .signature simpleserial-aes-CWNANO.elf simpleserial-aes-CWNANO.hex\n",
      ".\n",
      "Creating load file for Flash: simpleserial-aes-CWNANO.bin\n",
      "arm-none-eabi-objcopy -O binary -R .eeprom -R .fuse -R .lock -R .signature simpleserial-aes-CWNANO.elf simpleserial-aes-CWNANO.bin\n",
      ".\n",
      "Creating Extended Listing: simpleserial-aes-CWNANO.lss\n",
      "arm-none-eabi-objdump -h -S -z simpleserial-aes-CWNANO.elf > simpleserial-aes-CWNANO.lss\n",
      "Building for platform CWNANO with CRYPTO_TARGET=TINYAES128C\n",
      "SS_VER set to SS_VER_2_1\n",
      "SS_VER set to SS_VER_2_1\n",
      "Blank crypto options, building for AES128\n",
      "+--------------------------------------------------------\n",
      "+ Default target does full rebuild each time.\n",
      "+ Specify buildtarget == allquick == to avoid full rebuild\n",
      "+--------------------------------------------------------\n",
      "+--------------------------------------------------------\n",
      "+ Built for platform CWNANO Built-in Target (STM32F030) with:\n",
      "+ CRYPTO_TARGET = TINYAES128C\n",
      "+ CRYPTO_OPTIONS = AES128C\n",
      "+--------------------------------------------------------\n",
      "Size after:\n",
      "   text\t   data\t    bss\t    dec\t    hex\tfilename\n",
      "  13932\t    104\t   1728\t  15764\t   3d94\tsimpleserial-aes-CWNANO.elf\n"
     ]
    }
   ],
   "source": [
    "%%bash -s \"$PLATFORM\" \"$CRYPTO_TARGET\" \"$SS_VER\"\n",
    "cd hardware/victims/firmware/simpleserial-aes\n",
    "make PLATFORM=$1 CRYPTO_TARGET=$2 SS_VER=$3 -j"
   ]
  },
  {
   "cell_type": "code",
   "execution_count": 30,
   "metadata": {
    "scrolled": true
   },
   "outputs": [
    {
     "name": "stdout",
     "output_type": "stream",
     "text": [
      "Detected known STMF32: STM32F03xx4/03xx6\n",
      "Extended erase (0x44), this can take ten seconds or more\n",
      "Attempting to program 14035 bytes at 0x8000000\n",
      "STM32F Programming flash...\n",
      "STM32F Reading flash...\n",
      "Verified flash OK, 14035 bytes\n"
     ]
    }
   ],
   "source": [
    "cw.program_target(scope, prog, \"hardware/victims/firmware/simpleserial-aes/simpleserial-aes-{}.hex\".format(PLATFORM))"
   ]
  },
  {
   "cell_type": "code",
   "execution_count": null,
   "metadata": {},
   "outputs": [
    {
     "ename": "KeyboardInterrupt",
     "evalue": "Interrupted by user",
     "output_type": "error",
     "traceback": [
      "\u001b[1;31m---------------------------------------------------------------------------\u001b[0m",
      "\u001b[1;31mKeyboardInterrupt\u001b[0m                         Traceback (most recent call last)",
      "Cell \u001b[1;32mIn[162], line 11\u001b[0m\n\u001b[0;32m      7\u001b[0m     key\u001b[38;5;241m.\u001b[39mappend(\u001b[38;5;241m0\u001b[39m)\n\u001b[0;32m      9\u001b[0m TruncatedKey \u001b[38;5;241m=\u001b[39m key[:\u001b[38;5;241m15\u001b[39m]\n\u001b[1;32m---> 11\u001b[0m Data \u001b[38;5;241m=\u001b[39m \u001b[38;5;28;43minput\u001b[39;49m\u001b[43m(\u001b[49m\u001b[38;5;124;43m\"\u001b[39;49m\u001b[38;5;124;43mPlease Provide the desired Plaintext. Any overflow will be decrypted as a seperate message. Any underflow will be expanded to be exactly 16 characters:\u001b[39;49m\u001b[38;5;124;43m\"\u001b[39;49m\u001b[43m)\u001b[49m\n\u001b[0;32m     12\u001b[0m Data \u001b[38;5;241m=\u001b[39m\u001b[38;5;28mbytearray\u001b[39m(Data\u001b[38;5;241m.\u001b[39mencode(\u001b[38;5;124m'\u001b[39m\u001b[38;5;124mutf-8\u001b[39m\u001b[38;5;124m'\u001b[39m))\n\u001b[0;32m     13\u001b[0m \u001b[38;5;28;01mwhile\u001b[39;00m \u001b[38;5;28mlen\u001b[39m(Data) \u001b[38;5;241m%\u001b[39m \u001b[38;5;241m16\u001b[39m \u001b[38;5;241m!=\u001b[39m \u001b[38;5;241m0\u001b[39m:\n",
      "File \u001b[1;32m~\\AppData\\Local\\Packages\\PythonSoftwareFoundation.Python.3.12_qbz5n2kfra8p0\\LocalCache\\local-packages\\Python312\\site-packages\\ipykernel\\kernelbase.py:1282\u001b[0m, in \u001b[0;36mKernel.raw_input\u001b[1;34m(self, prompt)\u001b[0m\n\u001b[0;32m   1280\u001b[0m     msg \u001b[38;5;241m=\u001b[39m \u001b[38;5;124m\"\u001b[39m\u001b[38;5;124mraw_input was called, but this frontend does not support input requests.\u001b[39m\u001b[38;5;124m\"\u001b[39m\n\u001b[0;32m   1281\u001b[0m     \u001b[38;5;28;01mraise\u001b[39;00m StdinNotImplementedError(msg)\n\u001b[1;32m-> 1282\u001b[0m \u001b[38;5;28;01mreturn\u001b[39;00m \u001b[38;5;28;43mself\u001b[39;49m\u001b[38;5;241;43m.\u001b[39;49m\u001b[43m_input_request\u001b[49m\u001b[43m(\u001b[49m\n\u001b[0;32m   1283\u001b[0m \u001b[43m    \u001b[49m\u001b[38;5;28;43mstr\u001b[39;49m\u001b[43m(\u001b[49m\u001b[43mprompt\u001b[49m\u001b[43m)\u001b[49m\u001b[43m,\u001b[49m\n\u001b[0;32m   1284\u001b[0m \u001b[43m    \u001b[49m\u001b[38;5;28;43mself\u001b[39;49m\u001b[38;5;241;43m.\u001b[39;49m\u001b[43m_parent_ident\u001b[49m\u001b[43m[\u001b[49m\u001b[38;5;124;43m\"\u001b[39;49m\u001b[38;5;124;43mshell\u001b[39;49m\u001b[38;5;124;43m\"\u001b[39;49m\u001b[43m]\u001b[49m\u001b[43m,\u001b[49m\n\u001b[0;32m   1285\u001b[0m \u001b[43m    \u001b[49m\u001b[38;5;28;43mself\u001b[39;49m\u001b[38;5;241;43m.\u001b[39;49m\u001b[43mget_parent\u001b[49m\u001b[43m(\u001b[49m\u001b[38;5;124;43m\"\u001b[39;49m\u001b[38;5;124;43mshell\u001b[39;49m\u001b[38;5;124;43m\"\u001b[39;49m\u001b[43m)\u001b[49m\u001b[43m,\u001b[49m\n\u001b[0;32m   1286\u001b[0m \u001b[43m    \u001b[49m\u001b[43mpassword\u001b[49m\u001b[38;5;241;43m=\u001b[39;49m\u001b[38;5;28;43;01mFalse\u001b[39;49;00m\u001b[43m,\u001b[49m\n\u001b[0;32m   1287\u001b[0m \u001b[43m\u001b[49m\u001b[43m)\u001b[49m\n",
      "File \u001b[1;32m~\\AppData\\Local\\Packages\\PythonSoftwareFoundation.Python.3.12_qbz5n2kfra8p0\\LocalCache\\local-packages\\Python312\\site-packages\\ipykernel\\kernelbase.py:1325\u001b[0m, in \u001b[0;36mKernel._input_request\u001b[1;34m(self, prompt, ident, parent, password)\u001b[0m\n\u001b[0;32m   1322\u001b[0m \u001b[38;5;28;01mexcept\u001b[39;00m \u001b[38;5;167;01mKeyboardInterrupt\u001b[39;00m:\n\u001b[0;32m   1323\u001b[0m     \u001b[38;5;66;03m# re-raise KeyboardInterrupt, to truncate traceback\u001b[39;00m\n\u001b[0;32m   1324\u001b[0m     msg \u001b[38;5;241m=\u001b[39m \u001b[38;5;124m\"\u001b[39m\u001b[38;5;124mInterrupted by user\u001b[39m\u001b[38;5;124m\"\u001b[39m\n\u001b[1;32m-> 1325\u001b[0m     \u001b[38;5;28;01mraise\u001b[39;00m \u001b[38;5;167;01mKeyboardInterrupt\u001b[39;00m(msg) \u001b[38;5;28;01mfrom\u001b[39;00m \u001b[38;5;28;01mNone\u001b[39;00m\n\u001b[0;32m   1326\u001b[0m \u001b[38;5;28;01mexcept\u001b[39;00m \u001b[38;5;167;01mException\u001b[39;00m:\n\u001b[0;32m   1327\u001b[0m     \u001b[38;5;28mself\u001b[39m\u001b[38;5;241m.\u001b[39mlog\u001b[38;5;241m.\u001b[39mwarning(\u001b[38;5;124m\"\u001b[39m\u001b[38;5;124mInvalid Message:\u001b[39m\u001b[38;5;124m\"\u001b[39m, exc_info\u001b[38;5;241m=\u001b[39m\u001b[38;5;28;01mTrue\u001b[39;00m)\n",
      "\u001b[1;31mKeyboardInterrupt\u001b[0m: Interrupted by user"
     ]
    }
   ],
   "source": [
    "import time\n",
    "#Normal operation\n",
    "\n",
    "key = input(\"Please Provide the desired Key. It will be truncated or expanded to be exactly 16 Characters:\")\n",
    "key =bytearray(key.encode('utf-8'))\n",
    "while len(key) % 16 != 0:\n",
    "    key.append(0)\n",
    "\n",
    "TruncatedKey = key[:15]\n",
    "\n",
    "Data = input(\"Please Provide the desired Plaintext. Any overflow will be decrypted as a seperate message. Any underflow will be expanded to be exactly 16 characters:\")\n",
    "Data =bytearray(Data.encode('utf-8'))\n",
    "while len(Data) % 16 != 0:\n",
    "    Data.append(0)\n",
    "\n",
    "TruncatedKey = key[:15]\n",
    "\n",
    "target.simpleserial_write('l', TruncatedKey)\n",
    "\n",
    "for i in range(0, len(Data), 16):\n",
    "    #This needs to be here for the program to run\n",
    "    target.simpleserial_read('r', 16, timeout=500)\n",
    "    \n",
    "    text = Data[i:i+16]\n",
    "\n",
    "    print(\"This is the provided text:\")\n",
    "    print(text)\n",
    "\n",
    "    target.simpleserial_write('e', text)\n",
    "\n",
    "    response = target.simpleserial_read('r', 16, timeout=500)\n",
    "\n",
    "    print(\"This is the encrypted text:\")\n",
    "    print(response)\n",
    "\n",
    "    print(\"Now for Decryption...\")\n",
    "\n",
    "\n",
    "    target.simpleserial_write('d', response)\n",
    "\n",
    "\n",
    "    decryption = target.simpleserial_read('r', 16, timeout=500)\n",
    "    DecryptedPlain = decryption.decode(\"utf-8\") \n",
    "    print(\"Decrytped Data: \", decryption)\n",
    "    print(\"Decrypted ASCII:\", DecryptedPlain)"
   ]
  },
  {
   "cell_type": "code",
   "execution_count": null,
   "metadata": {},
   "outputs": [
    {
     "name": "stderr",
     "output_type": "stream",
     "text": [
      "Capturing traces:   0%|          | 0/2500 [00:00<?, ?it/s](ChipWhisperer Target WARNING|File SimpleSerial2.py:508) Unexpected frame byte in CWbytearray(b'03 65 01 02 eb 00 14 72 10 cc 0e 10 e8 92 42 10 57 77 37 cf ab')\n",
      "Capturing traces: 100%|██████████| 2500/2500 [02:15<00:00, 18.42it/s]\n"
     ]
    }
   ],
   "source": [
    "from tqdm import tqdm\n",
    "import numpy as np\n",
    "import time\n",
    "import matplotlib as plt\n",
    "\n",
    "#Attack 1, CPA \n",
    "\n",
    "ktp = cw.ktp.Basic()\n",
    "trace_array = []\n",
    "textin_array = []\n",
    "\n",
    "ey, text = ktp.next()\n",
    "#Send key\n",
    "#key = input(\"Please Provide the desired Key. It will be truncated or expanded to be exactly 16 Characters:\")\n",
    "key = bytearray([1,2,3,4,5,6,7,8,9,10,11,12,13,14,15,16])\n",
    "#key =bytearray(key.encode('utf-8'))\n",
    "while len(key) % 16 != 0:\n",
    "    key.append(0)\n",
    "TruncatedKey = key[:15]\n",
    "\n",
    "target.simpleserial_write('l', TruncatedKey)\n",
    "\n",
    "N = 2500 #100\n",
    "text = bytearray([0,0,0,0,0,0,0,0,0,0,0,0,0,0,0,0])\n",
    "for i in tqdm(range(0,N), desc='Capturing traces'):\n",
    "    scope.arm()\n",
    "    \n",
    "    target.simpleserial_write('e', text)\n",
    "    \n",
    "    ret = scope.capture()\n",
    "    if ret:\n",
    "        print(\"Target timed out!\")\n",
    "        continue\n",
    "    \n",
    "    response = target.simpleserial_read('r', 16)\n",
    "    \n",
    "    trace_array.append(scope.get_last_trace())\n",
    "    textin_array.append(text)\n",
    "    \n",
    "    ey, text = ktp.next()\n",
    "    text = bytearray([0,0,0,0,0,0,0,0,0,0,0,0,0,0,0,0])\n",
    "    \n",
    "trace_array = np.array(trace_array)\n",
    "\n"
   ]
  },
  {
   "cell_type": "code",
   "execution_count": null,
   "metadata": {},
   "outputs": [
    {
     "name": "stdout",
     "output_type": "stream",
     "text": [
      "[[ 0.05859375  0.1015625   0.03515625 ...  0.0234375  -0.0390625\n",
      "   0.0390625 ]\n",
      " [ 0.0625      0.11328125  0.04296875 ...  0.02734375 -0.0390625\n",
      "   0.03125   ]\n",
      " [ 0.0703125   0.1171875   0.03515625 ...  0.03515625 -0.03515625\n",
      "   0.0390625 ]\n",
      " ...\n",
      " [-0.01953125  0.109375    0.046875   ...  0.02734375 -0.02734375\n",
      "   0.046875  ]\n",
      " [ 0.078125    0.10546875  0.03125    ...  0.03515625 -0.02734375\n",
      "   0.0390625 ]\n",
      " [ 0.0703125   0.109375    0.046875   ...  0.03515625 -0.02734375\n",
      "   0.04296875]]\n"
     ]
    },
    {
     "data": {
      "image/png": "[encoded data removed]",
      "text/plain": [
       "<Figure size 640x480 with 1 Axes>"
      ]
     },
     "metadata": {},
     "output_type": "display_data"
    }
   ],
   "source": [
    "import matplotlib.pyplot as plt\n",
    "import numpy as np\n",
    "import chipwhisperer as cw\n",
    "%matplotlib inline\n",
    "\n",
    "#Plot traces\n",
    "\n",
    "print(trace_array)\n",
    "\n",
    "\n",
    "plt.plot(trace_array[0])\n",
    "\n",
    "plt.plot(trace_array[1])\n",
    "\n",
    "plt.plot(trace_array[2])\n",
    "\n",
    "plt.show()\n"
   ]
  },
  {
   "cell_type": "code",
   "execution_count": null,
   "metadata": {},
   "outputs": [],
   "source": [
    "#CPA stuff\n",
    "\n",
    "sbox = [\n",
    "    # 0    1    2    3    4    5    6    7    8    9    a    b    c    d    e    f \n",
    "    0x63,0x7c,0x77,0x7b,0xf2,0x6b,0x6f,0xc5,0x30,0x01,0x67,0x2b,0xfe,0xd7,0xab,0x76, # 0\n",
    "    0xca,0x82,0xc9,0x7d,0xfa,0x59,0x47,0xf0,0xad,0xd4,0xa2,0xaf,0x9c,0xa4,0x72,0xc0, # 1\n",
    "    0xb7,0xfd,0x93,0x26,0x36,0x3f,0xf7,0xcc,0x34,0xa5,0xe5,0xf1,0x71,0xd8,0x31,0x15, # 2\n",
    "    0x04,0xc7,0x23,0xc3,0x18,0x96,0x05,0x9a,0x07,0x12,0x80,0xe2,0xeb,0x27,0xb2,0x75, # 3\n",
    "    0x09,0x83,0x2c,0x1a,0x1b,0x6e,0x5a,0xa0,0x52,0x3b,0xd6,0xb3,0x29,0xe3,0x2f,0x84, # 4\n",
    "    0x53,0xd1,0x00,0xed,0x20,0xfc,0xb1,0x5b,0x6a,0xcb,0xbe,0x39,0x4a,0x4c,0x58,0xcf, # 5\n",
    "    0xd0,0xef,0xaa,0xfb,0x43,0x4d,0x33,0x85,0x45,0xf9,0x02,0x7f,0x50,0x3c,0x9f,0xa8, # 6\n",
    "    0x51,0xa3,0x40,0x8f,0x92,0x9d,0x38,0xf5,0xbc,0xb6,0xda,0x21,0x10,0xff,0xf3,0xd2, # 7\n",
    "    0xcd,0x0c,0x13,0xec,0x5f,0x97,0x44,0x17,0xc4,0xa7,0x7e,0x3d,0x64,0x5d,0x19,0x73, # 8\n",
    "    0x60,0x81,0x4f,0xdc,0x22,0x2a,0x90,0x88,0x46,0xee,0xb8,0x14,0xde,0x5e,0x0b,0xdb, # 9\n",
    "    0xe0,0x32,0x3a,0x0a,0x49,0x06,0x24,0x5c,0xc2,0xd3,0xac,0x62,0x91,0x95,0xe4,0x79, # a\n",
    "    0xe7,0xc8,0x37,0x6d,0x8d,0xd5,0x4e,0xa9,0x6c,0x56,0xf4,0xea,0x65,0x7a,0xae,0x08, # b\n",
    "    0xba,0x78,0x25,0x2e,0x1c,0xa6,0xb4,0xc6,0xe8,0xdd,0x74,0x1f,0x4b,0xbd,0x8b,0x8a, # c\n",
    "    0x70,0x3e,0xb5,0x66,0x48,0x03,0xf6,0x0e,0x61,0x35,0x57,0xb9,0x86,0xc1,0x1d,0x9e, # d\n",
    "    0xe1,0xf8,0x98,0x11,0x69,0xd9,0x8e,0x94,0x9b,0x1e,0x87,0xe9,0xce,0x55,0x28,0xdf, # e\n",
    "    0x8c,0xa1,0x89,0x0d,0xbf,0xe6,0x42,0x68,0x41,0x99,0x2d,0x0f,0xb0,0x54,0xbb,0x16  # f\n",
    "]\n",
    "\n",
    "sboxInv = [\n",
    "        0x52, 0x09, 0x6a, 0xd5, 0x30, 0x36, 0xa5, 0x38, 0xbf, 0x40, 0xa3, 0x9e, 0x81, 0xf3, 0xd7, 0xfb,\n",
    "        0x7c, 0xe3, 0x39, 0x82, 0x9b, 0x2f, 0xff, 0x87, 0x34, 0x8e, 0x43, 0x44, 0xc4, 0xde, 0xe9, 0xcb,\n",
    "        0x54, 0x7b, 0x94, 0x32, 0xa6, 0xc2, 0x23, 0x3d, 0xee, 0x4c, 0x95, 0x0b, 0x42, 0xfa, 0xc3, 0x4e,\n",
    "        0x08, 0x2e, 0xa1, 0x66, 0x28, 0xd9, 0x24, 0xb2, 0x76, 0x5b, 0xa2, 0x49, 0x6d, 0x8b, 0xd1, 0x25,\n",
    "        0x72, 0xf8, 0xf6, 0x64, 0x86, 0x68, 0x98, 0x16, 0xd4, 0xa4, 0x5c, 0xcc, 0x5d, 0x65, 0xb6, 0x92,\n",
    "        0x6c, 0x70, 0x48, 0x50, 0xfd, 0xed, 0xb9, 0xda, 0x5e, 0x15, 0x46, 0x57, 0xa7, 0x8d, 0x9d, 0x84,\n",
    "        0x90, 0xd8, 0xab, 0x00, 0x8c, 0xbc, 0xd3, 0x0a, 0xf7, 0xe4, 0x58, 0x05, 0xb8, 0xb3, 0x45, 0x06,\n",
    "        0xd0, 0x2c, 0x1e, 0x8f, 0xca, 0x3f, 0x0f, 0x02, 0xc1, 0xaf, 0xbd, 0x03, 0x01, 0x13, 0x8a, 0x6b,\n",
    "        0x3a, 0x91, 0x11, 0x41, 0x4f, 0x67, 0xdc, 0xea, 0x97, 0xf2, 0xcf, 0xce, 0xf0, 0xb4, 0xe6, 0x73,\n",
    "        0x96, 0xac, 0x74, 0x22, 0xe7, 0xad, 0x35, 0x85, 0xe2, 0xf9, 0x37, 0xe8, 0x1c, 0x75, 0xdf, 0x6e,\n",
    "        0x47, 0xf1, 0x1a, 0x71, 0x1d, 0x29, 0xc5, 0x89, 0x6f, 0xb7, 0x62, 0x0e, 0xaa, 0x18, 0xbe, 0x1b,\n",
    "        0xfc, 0x56, 0x3e, 0x4b, 0xc6, 0xd2, 0x79, 0x20, 0x9a, 0xdb, 0xc0, 0xfe, 0x78, 0xcd, 0x5a, 0xf4,\n",
    "        0x1f, 0xdd, 0xa8, 0x33, 0x88, 0x07, 0xc7, 0x31, 0xb1, 0x12, 0x10, 0x59, 0x27, 0x80, 0xec, 0x5f,\n",
    "        0x60, 0x51, 0x7f, 0xa9, 0x19, 0xb5, 0x4a, 0x0d, 0x2d, 0xe5, 0x7a, 0x9f, 0x93, 0xc9, 0x9c, 0xef,\n",
    "        0xa0, 0xe0, 0x3b, 0x4d, 0xae, 0x2a, 0xf5, 0xb0, 0xc8, 0xeb, 0xbb, 0x3c, 0x83, 0x53, 0x99, 0x61,\n",
    "        0x17, 0x2b, 0x04, 0x7e, 0xba, 0x77, 0xd6, 0x26, 0xe1, 0x69, 0x14, 0x63, 0x55, 0x21, 0x0c, 0x7d\n",
    "        ]\n",
    "\n",
    "def aes_internal(inputdata, key):\n",
    "    result = key ^ inputdata\n",
    "    return sbox[result]\n",
    "\n",
    "def calc_hamming_weight(n):\n",
    "    return bin(n).count(\"1\")\n",
    "\n",
    "HW = [0] * 256\n",
    "for i in range(0, 256):\n",
    "    HW[i] = calc_hamming_weight(i)\n",
    "\n",
    "def calc_hamming_weight(n):\n",
    "    return bin(n).count(\"1\")\n",
    "\n",
    "HW = [0] * 256\n",
    "for i in range(0, 256):\n",
    "    HW[i] = calc_hamming_weight(i)\n",
    "\n",
    "def mean(X):\n",
    "    return np.mean(X, axis = 0)\n",
    "    #raise NotImplementedError(\"Add your code here, and delete this.\")\n",
    "\n",
    "def std_dev(X, X_bar):\n",
    "    return np.sqrt((np.sum((X - X_bar) ** 2, axis = 0)))\n",
    "    #raise NotImplementedError(\"Add your code here, and delete this.\")\n",
    "\n",
    "def cov(X, X_bar, Y, Y_bar):\n",
    "    return np.sum((Y - Y_bar) * (X - X_bar), axis = 0)\n",
    "    #raise NotImplementedError(\"Add your code here, and delete this.\")    "
   ]
  },
  {
   "cell_type": "code",
   "execution_count": null,
   "metadata": {},
   "outputs": [
    {
     "name": "stderr",
     "output_type": "stream",
     "text": [
      "  0%|          | 0/16 [00:00<?, ?it/s]C:\\Users\\tcber\\AppData\\Local\\Temp\\ipykernel_15172\\3236646814.py:12: RuntimeWarning: invalid value encountered in divide\n",
      "  cpaoutput = (cov(trace_array, t_bar, hws, hws_bar) / (std_dev(trace_array, t_bar) * std_dev(hws, hws_bar)))\n",
      "100%|██████████| 16/16 [13:35<00:00, 50.99s/it]"
     ]
    },
    {
     "name": "stdout",
     "output_type": "stream",
     "text": [
      "Best Key Guess: 00 00 00 00 00 00 00 00 00 00 00 00 00 00 00 00 \n",
      " [np.float64(nan), np.float64(nan), np.float64(nan), np.float64(nan), np.float64(nan), np.float64(nan), np.float64(nan), np.float64(nan), np.float64(nan), np.float64(nan), np.float64(nan), np.float64(nan), np.float64(nan), np.float64(nan), np.float64(nan), np.float64(nan)]\n"
     ]
    },
    {
     "name": "stderr",
     "output_type": "stream",
     "text": [
      "\n"
     ]
    }
   ],
   "source": [
    "#Implement the CPA attack\n",
    "t_bar = np.sum(trace_array, axis=0)/len(trace_array)\n",
    "o_t = np.sqrt(np.sum((trace_array - t_bar)**2, axis=0))\n",
    "\n",
    "cparefs = [0] * 16 #put your key byte guess correlations here\n",
    "bestguess = [0] * 16 #put your key byte guesses here\n",
    "\n",
    "for bnum in tqdm(range(0, 16)):\n",
    "    maxcpa = [0] * 256\n",
    "    for kguess in range(0, 256):\n",
    "        hws = np.array([[HW[aes_internal(textin[bnum],kguess)] for textin in textin_array]]).transpose()\n",
    "        hws_bar = mean(hws)    \n",
    "        cpaoutput = (cov(trace_array, t_bar, hws, hws_bar) / (std_dev(trace_array, t_bar) * std_dev(hws, hws_bar)))\n",
    "        maxcpa[kguess] = max(abs(cpaoutput))\n",
    "\n",
    "    bestguess[bnum] = np.argmax(maxcpa)\n",
    "    cparefs[bnum] = max(maxcpa)\n",
    "    \n",
    "\n",
    "print(\"Best Key Guess: \", end=\"\")\n",
    "for b in bestguess: print(\"%02x \" % b, end=\"\")\n",
    "print(\"\\n\", cparefs)"
   ]
  },
  {
   "cell_type": "code",
   "execution_count": null,
   "metadata": {},
   "outputs": [
    {
     "name": "stderr",
     "output_type": "stream",
     "text": [
      "Capturing traces:   0%|          | 0/10 [00:00<?, ?it/s](ChipWhisperer Target WARNING|File SimpleSerial2.py:508) Unexpected frame byte in CWbytearray(b'03 65 01 02 eb 00 14 72 10 4d 2a 2b e0 5e 80 0a c5 59 0e 21 63')\n",
      "Capturing traces: 100%|██████████| 10/10 [00:01<00:00,  6.93it/s]"
     ]
    },
    {
     "name": "stdout",
     "output_type": "stream",
     "text": [
      "[bytearray(b'\\x00\\x00\\n\\x00\\x00\\x00\\x00\\x00\\x00\\x00\\x00\\x00\\x00\\x00\\x00\\x00'), bytearray(b'\\x00\\x00\\n\\x00\\x00\\x00\\x00\\x00\\x00\\x00\\x00\\x00\\x00\\x00\\x00\\x00'), bytearray(b'\\x00\\x00\\n\\x00\\x00\\x00\\x00\\x00\\x00\\x00\\x00\\x00\\x00\\x00\\x00\\x00'), bytearray(b'\\x00\\x00\\n\\x00\\x00\\x00\\x00\\x00\\x00\\x00\\x00\\x00\\x00\\x00\\x00\\x00'), bytearray(b'\\x00\\x00\\n\\x00\\x00\\x00\\x00\\x00\\x00\\x00\\x00\\x00\\x00\\x00\\x00\\x00'), bytearray(b'\\x00\\x00\\n\\x00\\x00\\x00\\x00\\x00\\x00\\x00\\x00\\x00\\x00\\x00\\x00\\x00'), bytearray(b'\\x00\\x00\\n\\x00\\x00\\x00\\x00\\x00\\x00\\x00\\x00\\x00\\x00\\x00\\x00\\x00'), bytearray(b'\\x00\\x00\\n\\x00\\x00\\x00\\x00\\x00\\x00\\x00\\x00\\x00\\x00\\x00\\x00\\x00'), bytearray(b'\\x00\\x00\\n\\x00\\x00\\x00\\x00\\x00\\x00\\x00\\x00\\x00\\x00\\x00\\x00\\x00'), bytearray(b'\\x00\\x00\\n\\x00\\x00\\x00\\x00\\x00\\x00\\x00\\x00\\x00\\x00\\x00\\x00\\x00')]\n",
      "[None, CWbytearray(b'4d 2a 11 e0 5e 80 0a c5 59 0e 21 63 c4 a0 74 09'), CWbytearray(b'4d 2a 34 e0 5e 80 0a c5 59 0e 21 63 c4 a0 74 09'), CWbytearray(b'4d 2a 9e e0 5e 80 0a c5 59 0e 21 63 c4 a0 74 09'), CWbytearray(b'4d 2a 4d e0 5e 80 0a c5 59 0e 21 63 c4 a0 74 09'), CWbytearray(b'4d 2a 8f e0 5e 80 0a c5 59 0e 21 63 c4 a0 74 09'), CWbytearray(b'4d 2a ba e0 5e 80 0a c5 59 0e 21 63 c4 a0 74 09'), CWbytearray(b'4d 2a bf e0 5e 80 0a c5 59 0e 21 63 c4 a0 74 09'), CWbytearray(b'4d 2a 98 e0 5e 80 0a c5 59 0e 21 63 c4 a0 74 09'), CWbytearray(b'4d 2a e1 e0 5e 80 0a c5 59 0e 21 63 c4 a0 74 09')]\n",
      "[0, 0, 37, 0, 0, 0, 0, 0, 0, 0, 0, 0, 0, 0, 0, 0]\n"
     ]
    },
    {
     "name": "stderr",
     "output_type": "stream",
     "text": [
      "\n"
     ]
    }
   ],
   "source": [
    "from tqdm import tqdm\n",
    "import numpy as np\n",
    "import time\n",
    "import matplotlib as plt\n",
    "\n",
    "#Attack 2, Cryptanalysis\n",
    "\n",
    "ktp = cw.ktp.Basic()\n",
    "\n",
    "trace_array = []\n",
    "textin_array = []\n",
    "textout_array = []\n",
    "\n",
    "def increment_bytearray(text):\n",
    "    \"\"\"\n",
    "    Increment a bytearray as though it represents a large integer in big-endian order.\n",
    "    \"\"\"\n",
    "    carry = 1  # Start with a carry of 1 (incrementing by 1)\n",
    "    for i in (range(len(text))):  # Start from the last byte\n",
    "        text[i] += carry\n",
    "        if text[i] < 256:  # No carry needed; we are done\n",
    "            carry = 0\n",
    "            break\n",
    "        text[i] = 0  # Overflow, set byte to 0 and continue carrying\n",
    "    \n",
    "    if carry:  # If carry is still 1, the number overflowed entirely\n",
    "        print(\"Warning: Overflow occurred, the bytearray wrapped around to zero.\")\n",
    "    \n",
    "    return text\n",
    "\n",
    "\n",
    "#Send key\n",
    "key = bytearray([2,3,4,4,5,6,7,8,9,10,11,12,13,14,15,16])\n",
    "while len(key) % 16 != 0:\n",
    "    key.append(0)\n",
    "TruncatedKey = key[:16]\n",
    "\n",
    "target.simpleserial_write('l', TruncatedKey)\n",
    "\n",
    "N = 10 #100\n",
    "\n",
    "text = bytearray([0x00,0x00,0x00,0x00,0x00,0x00,0x00,0x00,0x00,0x00,0x00,0x00,0x00,0x00,0x00,0x00])\n",
    "text = text[0:16]\n",
    "\n",
    "for i in tqdm(range(0,N), desc='Capturing traces'):\n",
    "\n",
    "    target.simpleserial_write('e', text)\n",
    "\n",
    "    response = target.simpleserial_read('r', 16, timeout=500)\n",
    "\n",
    "    textin_array.append(text)\n",
    "    textout_array.append(response)\n",
    "    text[2] = text[2] + 1\n",
    "\n",
    "    \n",
    "print(textin_array)\n",
    "print(textout_array)\n",
    "\n",
    "for i in range(0,1):\n",
    "    \n",
    "    result = [a ^ b for a, b in zip(textout_array[1], textout_array[2])]\n",
    "    print(result)\n"
   ]
  },
  {
   "cell_type": "code",
   "execution_count": 32,
   "metadata": {},
   "outputs": [
    {
     "name": "stderr",
     "output_type": "stream",
     "text": [
      "(ChipWhisperer Scope WARNING|File cwnano.py:705) Timeout in cwnano capture()\n"
     ]
    },
    {
     "name": "stdout",
     "output_type": "stream",
     "text": [
      "{'valid': False, 'payload': None, 'full_response': '\\x05e\\x01\\x01¦\\x00', 'rv': None}\n"
     ]
    },
    {
     "data": {
      "application/vnd.jupyter.widget-view+json": {
       "model_id": "c667c5d07cd24179a8d348de568b3a58",
       "version_major": 2,
       "version_minor": 0
      },
      "text/plain": [
       "IntText(value=0, description='success count:', disabled=True)"
      ]
     },
     "metadata": {},
     "output_type": "display_data"
    },
    {
     "data": {
      "application/vnd.jupyter.widget-view+json": {
       "model_id": "3e585ffbc87b4a649fdd7e6c464d07bc",
       "version_major": 2,
       "version_minor": 0
      },
      "text/plain": [
       "IntText(value=0, description='reset count:', disabled=True)"
      ]
     },
     "metadata": {},
     "output_type": "display_data"
    },
    {
     "data": {
      "application/vnd.jupyter.widget-view+json": {
       "model_id": "39fe8938f1794ea6bd722e8999ddab2d",
       "version_major": 2,
       "version_minor": 0
      },
      "text/plain": [
       "IntText(value=0, description='normal count:', disabled=True)"
      ]
     },
     "metadata": {},
     "output_type": "display_data"
    },
    {
     "data": {
      "application/vnd.jupyter.widget-view+json": {
       "model_id": "e9db804fc58b45a6b4b9fef9e6d7cb8d",
       "version_major": 2,
       "version_minor": 0
      },
      "text/plain": [
       "FloatSlider(value=0.0, continuous_update=False, description='repeat setting:', disabled=True, max=10.0, readou…"
      ]
     },
     "metadata": {},
     "output_type": "display_data"
    },
    {
     "data": {
      "application/vnd.jupyter.widget-view+json": {
       "model_id": "1dbc5ab1025a457db6ec247320bc4432",
       "version_major": 2,
       "version_minor": 0
      },
      "text/plain": [
       "FloatSlider(value=0.0, continuous_update=False, description='ext_offset setting:', disabled=True, max=10.0, re…"
      ]
     },
     "metadata": {},
     "output_type": "display_data"
    }
   ],
   "source": [
    "scope.io.clkout = 7.5E6\n",
    "def reboot_flush():            \n",
    "    scope.io.nrst = False\n",
    "    time.sleep(0.05)\n",
    "    scope.io.nrst = \"high_z\"\n",
    "    time.sleep(0.05)\n",
    "    #Flush garbage too\n",
    "    target.flush()\n",
    "\n",
    "scope\n",
    "reboot_flush()\n",
    "scope.arm()\n",
    "target.simpleserial_write(\"g\", bytearray([]))\n",
    "scope.capture()\n",
    "val = target.simpleserial_read_witherrors('r', 4, glitch_timeout=10)#For loop check\n",
    "valid = val['valid']\n",
    "if valid:\n",
    "    response = val['payload']\n",
    "    raw_serial = val['full_response']\n",
    "    error_code = val['rv']\n",
    "print(val)\n",
    "gc = cw.GlitchController(groups=[\"success\", \"reset\", \"normal\"], parameters=[\"repeat\", \"ext_offset\"])\n",
    "gc.display_stats()"
   ]
  },
  {
   "cell_type": "code",
   "execution_count": null,
   "metadata": {},
   "outputs": [
    {
     "name": "stdout",
     "output_type": "stream",
     "text": [
      "['0x8', '0xbd', '0x21', '0x6a', '0xab', '0x22', '0xc7', '0x50', '0x99', '0x3b', '0xc0', '0x81', '0x85', '0x4e', '0xb', '0x98']\n",
      "['0x59', '0xbd', '0x21', '0x6a', '0xab', '0x22', '0xc7', '0x50', '0x99', '0x3b', '0xc0', '0x81', '0x85', '0x4e', '0xb', '0x98']\n",
      "['0x55', '0xbd', '0x21', '0x6a', '0xab', '0x22', '0xc7', '0x50', '0x99', '0x3b', '0xc0', '0x81', '0x85', '0x4e', '0xb', '0x98']\n",
      "['0x25', '0xbd', '0x21', '0x6a', '0xab', '0x22', '0xc7', '0x50', '0x99', '0x3b', '0xc0', '0x81', '0x85', '0x4e', '0xb', '0x98']\n",
      "['0xb', '0xbd', '0x21', '0x6a', '0xab', '0x22', '0xc7', '0x50', '0x99', '0x3b', '0xc0', '0x81', '0x85', '0x4e', '0xb', '0x98']\n",
      "['0x96', '0xbd', '0x21', '0x6a', '0xab', '0x22', '0xc7', '0x50', '0x99', '0x3b', '0xc0', '0x81', '0x85', '0x4e', '0xb', '0x98']\n",
      "['0x16', '0xbd', '0x21', '0x6a', '0xab', '0x22', '0xc7', '0x50', '0x99', '0x3b', '0xc0', '0x81', '0x85', '0x4e', '0xb', '0x98']\n",
      "['0x5', '0xbd', '0x21', '0x6a', '0xab', '0x22', '0xc7', '0x50', '0x99', '0x3b', '0xc0', '0x81', '0x85', '0x4e', '0xb', '0x98']\n",
      "['0xea', '0xbd', '0x21', '0x6a', '0xab', '0x22', '0xc7', '0x50', '0x99', '0x3b', '0xc0', '0x81', '0x85', '0x4e', '0xb', '0x98']\n",
      "['0xb3', '0xbd', '0x21', '0x6a', '0xab', '0x22', '0xc7', '0x50', '0x99', '0x3b', '0xc0', '0x81', '0x85', '0x4e', '0xb', '0x98']\n",
      "['0x86', '0xbd', '0x21', '0x6a', '0xab', '0x22', '0xc7', '0x50', '0x99', '0x3b', '0xc0', '0x81', '0x85', '0x4e', '0xb', '0x98']\n",
      "['0x60', '0xbd', '0x21', '0x6a', '0xab', '0x22', '0xc7', '0x50', '0x99', '0x3b', '0xc0', '0x81', '0x85', '0x4e', '0xb', '0x98']\n",
      "['0x35', '0xbd', '0x21', '0x6a', '0xab', '0x22', '0xc7', '0x50', '0x99', '0x3b', '0xc0', '0x81', '0x85', '0x4e', '0xb', '0x98']\n",
      "['0x83', '0xbd', '0x21', '0x6a', '0xab', '0x22', '0xc7', '0x50', '0x99', '0x3b', '0xc0', '0x81', '0x85', '0x4e', '0xb', '0x98']\n",
      "['0xed', '0xbd', '0x21', '0x6a', '0xab', '0x22', '0xc7', '0x50', '0x99', '0x3b', '0xc0', '0x81', '0x85', '0x4e', '0xb', '0x98']\n",
      "['0x5d', '0xbd', '0x21', '0x6a', '0xab', '0x22', '0xc7', '0x50', '0x99', '0x3b', '0xc0', '0x81', '0x85', '0x4e', '0xb', '0x98']\n",
      "['0x12', '0xbd', '0x21', '0x6a', '0xab', '0x22', '0xc7', '0x50', '0x99', '0x3b', '0xc0', '0x81', '0x85', '0x4e', '0xb', '0x98']\n",
      "['0xc', '0xbd', '0x21', '0x6a', '0xab', '0x22', '0xc7', '0x50', '0x99', '0x3b', '0xc0', '0x81', '0x85', '0x4e', '0xb', '0x98']\n",
      "['0xa', '0xbd', '0x21', '0x6a', '0xab', '0x22', '0xc7', '0x50', '0x99', '0x3b', '0xc0', '0x81', '0x85', '0x4e', '0xb', '0x98']\n",
      "['0x3', '0xbd', '0x21', '0x6a', '0xab', '0x22', '0xc7', '0x50', '0x99', '0x3b', '0xc0', '0x81', '0x85', '0x4e', '0xb', '0x98']\n",
      "['0xdc', '0xbd', '0x21', '0x6a', '0xab', '0x22', '0xc7', '0x50', '0x99', '0x3b', '0xc0', '0x81', '0x85', '0x4e', '0xb', '0x98']\n",
      "['0xe3', '0xbd', '0x21', '0x6a', '0xab', '0x22', '0xc7', '0x50', '0x99', '0x3b', '0xc0', '0x81', '0x85', '0x4e', '0xb', '0x98']\n",
      "['0x93', '0xbd', '0x21', '0x6a', '0xab', '0x22', '0xc7', '0x50', '0x99', '0x3b', '0xc0', '0x81', '0x85', '0x4e', '0xb', '0x98']\n",
      "['0x97', '0xbd', '0x21', '0x6a', '0xab', '0x22', '0xc7', '0x50', '0x99', '0x3b', '0xc0', '0x81', '0x85', '0x4e', '0xb', '0x98']\n",
      "['0x46', '0xbd', '0x21', '0x6a', '0xab', '0x22', '0xc7', '0x50', '0x99', '0x3b', '0xc0', '0x81', '0x85', '0x4e', '0xb', '0x98']\n",
      "['0x3c', '0xbd', '0x21', '0x6a', '0xab', '0x22', '0xc7', '0x50', '0x99', '0x3b', '0xc0', '0x81', '0x85', '0x4e', '0xb', '0x98']\n",
      "['0xf9', '0xbd', '0x21', '0x6a', '0xab', '0x22', '0xc7', '0x50', '0x99', '0x3b', '0xc0', '0x81', '0x85', '0x4e', '0xb', '0x98']\n",
      "['0x13', '0xbd', '0x21', '0x6a', '0xab', '0x22', '0xc7', '0x50', '0x99', '0x3b', '0xc0', '0x81', '0x85', '0x4e', '0xb', '0x98']\n",
      "['0xca', '0xbd', '0x21', '0x6a', '0xab', '0x22', '0xc7', '0x50', '0x99', '0x3b', '0xc0', '0x81', '0x85', '0x4e', '0xb', '0x98']\n",
      "['0x1d', '0xbd', '0x21', '0x6a', '0xab', '0x22', '0xc7', '0x50', '0x99', '0x3b', '0xc0', '0x81', '0x85', '0x4e', '0xb', '0x98']\n",
      "['0x10', '0xbd', '0x21', '0x6a', '0xab', '0x22', '0xc7', '0x50', '0x99', '0x3b', '0xc0', '0x81', '0x85', '0x4e', '0xb', '0x98']\n",
      "['0x99', '0xbd', '0x21', '0x6a', '0xab', '0x22', '0xc7', '0x50', '0x99', '0x3b', '0xc0', '0x81', '0x85', '0x4e', '0xb', '0x98']\n",
      "['0x24', '0xbd', '0x21', '0x6a', '0xab', '0x22', '0xc7', '0x50', '0x99', '0x3b', '0xc0', '0x81', '0x85', '0x4e', '0xb', '0x98']\n",
      "['0x22', '0xbd', '0x21', '0x6a', '0xab', '0x22', '0xc7', '0x50', '0x99', '0x3b', '0xc0', '0x81', '0x85', '0x4e', '0xb', '0x98']\n",
      "['0x4a', '0xbd', '0x21', '0x6a', '0xab', '0x22', '0xc7', '0x50', '0x99', '0x3b', '0xc0', '0x81', '0x85', '0x4e', '0xb', '0x98']\n",
      "['0x5c', '0xbd', '0x21', '0x6a', '0xab', '0x22', '0xc7', '0x50', '0x99', '0x3b', '0xc0', '0x81', '0x85', '0x4e', '0xb', '0x98']\n",
      "['0x38', '0xbd', '0x21', '0x6a', '0xab', '0x22', '0xc7', '0x50', '0x99', '0x3b', '0xc0', '0x81', '0x85', '0x4e', '0xb', '0x98']\n",
      "['0x7f', '0xbd', '0x21', '0x6a', '0xab', '0x22', '0xc7', '0x50', '0x99', '0x3b', '0xc0', '0x81', '0x85', '0x4e', '0xb', '0x98']\n",
      "['0xf6', '0xbd', '0x21', '0x6a', '0xab', '0x22', '0xc7', '0x50', '0x99', '0x3b', '0xc0', '0x81', '0x85', '0x4e', '0xb', '0x98']\n",
      "['0x80', '0xbd', '0x21', '0x6a', '0xab', '0x22', '0xc7', '0x50', '0x99', '0x3b', '0xc0', '0x81', '0x85', '0x4e', '0xb', '0x98']\n",
      "['0x2a', '0xbd', '0x21', '0x6a', '0xab', '0x22', '0xc7', '0x50', '0x99', '0x3b', '0xc0', '0x81', '0x85', '0x4e', '0xb', '0x98']\n",
      "['0xb8', '0xbd', '0x21', '0x6a', '0xab', '0x22', '0xc7', '0x50', '0x99', '0x3b', '0xc0', '0x81', '0x85', '0x4e', '0xb', '0x98']\n",
      "['0xfb', '0xbd', '0x21', '0x6a', '0xab', '0x22', '0xc7', '0x50', '0x99', '0x3b', '0xc0', '0x81', '0x85', '0x4e', '0xb', '0x98']\n",
      "['0xc2', '0xbd', '0x21', '0x6a', '0xab', '0x22', '0xc7', '0x50', '0x99', '0x3b', '0xc0', '0x81', '0x85', '0x4e', '0xb', '0x98']\n",
      "['0x71', '0xbd', '0x21', '0x6a', '0xab', '0x22', '0xc7', '0x50', '0x99', '0x3b', '0xc0', '0x81', '0x85', '0x4e', '0xb', '0x98']\n",
      "['0xa8', '0xbd', '0x21', '0x6a', '0xab', '0x22', '0xc7', '0x50', '0x99', '0x3b', '0xc0', '0x81', '0x85', '0x4e', '0xb', '0x98']\n",
      "['0xe4', '0xbd', '0x21', '0x6a', '0xab', '0x22', '0xc7', '0x50', '0x99', '0x3b', '0xc0', '0x81', '0x85', '0x4e', '0xb', '0x98']\n",
      "['0xab', '0xbd', '0x21', '0x6a', '0xab', '0x22', '0xc7', '0x50', '0x99', '0x3b', '0xc0', '0x81', '0x85', '0x4e', '0xb', '0x98']\n",
      "['0x51', '0xbd', '0x21', '0x6a', '0xab', '0x22', '0xc7', '0x50', '0x99', '0x3b', '0xc0', '0x81', '0x85', '0x4e', '0xb', '0x98']\n",
      "['0x19', '0xbd', '0x21', '0x6a', '0xab', '0x22', '0xc7', '0x50', '0x99', '0x3b', '0xc0', '0x81', '0x85', '0x4e', '0xb', '0x98']\n",
      "['0x3a', '0xbd', '0x21', '0x6a', '0xab', '0x22', '0xc7', '0x50', '0x99', '0x3b', '0xc0', '0x81', '0x85', '0x4e', '0xb', '0x98']\n",
      "['0x8f', '0xbd', '0x21', '0x6a', '0xab', '0x22', '0xc7', '0x50', '0x99', '0x3b', '0xc0', '0x81', '0x85', '0x4e', '0xb', '0x98']\n",
      "['0xfa', '0xbd', '0x21', '0x6a', '0xab', '0x22', '0xc7', '0x50', '0x99', '0x3b', '0xc0', '0x81', '0x85', '0x4e', '0xb', '0x98']\n",
      "['0xd7', '0xbd', '0x21', '0x6a', '0xab', '0x22', '0xc7', '0x50', '0x99', '0x3b', '0xc0', '0x81', '0x85', '0x4e', '0xb', '0x98']\n",
      "['0xc5', '0xbd', '0x21', '0x6a', '0xab', '0x22', '0xc7', '0x50', '0x99', '0x3b', '0xc0', '0x81', '0x85', '0x4e', '0xb', '0x98']\n",
      "['0xf4', '0xbd', '0x21', '0x6a', '0xab', '0x22', '0xc7', '0x50', '0x99', '0x3b', '0xc0', '0x81', '0x85', '0x4e', '0xb', '0x98']\n",
      "['0x53', '0xbd', '0x21', '0x6a', '0xab', '0x22', '0xc7', '0x50', '0x99', '0x3b', '0xc0', '0x81', '0x85', '0x4e', '0xb', '0x98']\n",
      "['0x20', '0xbd', '0x21', '0x6a', '0xab', '0x22', '0xc7', '0x50', '0x99', '0x3b', '0xc0', '0x81', '0x85', '0x4e', '0xb', '0x98']\n",
      "['0x74', '0xbd', '0x21', '0x6a', '0xab', '0x22', '0xc7', '0x50', '0x99', '0x3b', '0xc0', '0x81', '0x85', '0x4e', '0xb', '0x98']\n",
      "['0x33', '0xbd', '0x21', '0x6a', '0xab', '0x22', '0xc7', '0x50', '0x99', '0x3b', '0xc0', '0x81', '0x85', '0x4e', '0xb', '0x98']\n",
      "['0x88', '0xbd', '0x21', '0x6a', '0xab', '0x22', '0xc7', '0x50', '0x99', '0x3b', '0xc0', '0x81', '0x85', '0x4e', '0xb', '0x98']\n",
      "['0xe1', '0xbd', '0x21', '0x6a', '0xab', '0x22', '0xc7', '0x50', '0x99', '0x3b', '0xc0', '0x81', '0x85', '0x4e', '0xb', '0x98']\n",
      "['0x57', '0xbd', '0x21', '0x6a', '0xab', '0x22', '0xc7', '0x50', '0x99', '0x3b', '0xc0', '0x81', '0x85', '0x4e', '0xb', '0x98']\n",
      "['0x3b', '0xbd', '0x21', '0x6a', '0xab', '0x22', '0xc7', '0x50', '0x99', '0x3b', '0xc0', '0x81', '0x85', '0x4e', '0xb', '0x98']\n",
      "['0x9e', '0xbd', '0x21', '0x6a', '0xab', '0x22', '0xc7', '0x50', '0x99', '0x3b', '0xc0', '0x81', '0x85', '0x4e', '0xb', '0x98']\n",
      "['0x41', '0xbd', '0x21', '0x6a', '0xab', '0x22', '0xc7', '0x50', '0x99', '0x3b', '0xc0', '0x81', '0x85', '0x4e', '0xb', '0x98']\n",
      "['0xeb', '0xbd', '0x21', '0x6a', '0xab', '0x22', '0xc7', '0x50', '0x99', '0x3b', '0xc0', '0x81', '0x85', '0x4e', '0xb', '0x98']\n",
      "['0x2e', '0xbd', '0x21', '0x6a', '0xab', '0x22', '0xc7', '0x50', '0x99', '0x3b', '0xc0', '0x81', '0x85', '0x4e', '0xb', '0x98']\n",
      "['0x90', '0xbd', '0x21', '0x6a', '0xab', '0x22', '0xc7', '0x50', '0x99', '0x3b', '0xc0', '0x81', '0x85', '0x4e', '0xb', '0x98']\n",
      "['0x62', '0xbd', '0x21', '0x6a', '0xab', '0x22', '0xc7', '0x50', '0x99', '0x3b', '0xc0', '0x81', '0x85', '0x4e', '0xb', '0x98']\n",
      "['0xb4', '0xbd', '0x21', '0x6a', '0xab', '0x22', '0xc7', '0x50', '0x99', '0x3b', '0xc0', '0x81', '0x85', '0x4e', '0xb', '0x98']\n",
      "['0xa7', '0xbd', '0x21', '0x6a', '0xab', '0x22', '0xc7', '0x50', '0x99', '0x3b', '0xc0', '0x81', '0x85', '0x4e', '0xb', '0x98']\n",
      "['0x8b', '0xbd', '0x21', '0x6a', '0xab', '0x22', '0xc7', '0x50', '0x99', '0x3b', '0xc0', '0x81', '0x85', '0x4e', '0xb', '0x98']\n",
      "['0x6c', '0xbd', '0x21', '0x6a', '0xab', '0x22', '0xc7', '0x50', '0x99', '0x3b', '0xc0', '0x81', '0x85', '0x4e', '0xb', '0x98']\n",
      "['0x50', '0xbd', '0x21', '0x6a', '0xab', '0x22', '0xc7', '0x50', '0x99', '0x3b', '0xc0', '0x81', '0x85', '0x4e', '0xb', '0x98']\n",
      "['0x79', '0xbd', '0x21', '0x6a', '0xab', '0x22', '0xc7', '0x50', '0x99', '0x3b', '0xc0', '0x81', '0x85', '0x4e', '0xb', '0x98']\n",
      "['0x2f', '0xbd', '0x21', '0x6a', '0xab', '0x22', '0xc7', '0x50', '0x99', '0x3b', '0xc0', '0x81', '0x85', '0x4e', '0xb', '0x98']\n",
      "['0x40', '0xbd', '0x21', '0x6a', '0xab', '0x22', '0xc7', '0x50', '0x99', '0x3b', '0xc0', '0x81', '0x85', '0x4e', '0xb', '0x98']\n",
      "['0x6e', '0xbd', '0x21', '0x6a', '0xab', '0x22', '0xc7', '0x50', '0x99', '0x3b', '0xc0', '0x81', '0x85', '0x4e', '0xb', '0x98']\n",
      "['0x7e', '0xbd', '0x21', '0x6a', '0xab', '0x22', '0xc7', '0x50', '0x99', '0x3b', '0xc0', '0x81', '0x85', '0x4e', '0xb', '0x98']\n",
      "['0x44', '0xbd', '0x21', '0x6a', '0xab', '0x22', '0xc7', '0x50', '0x99', '0x3b', '0xc0', '0x81', '0x85', '0x4e', '0xb', '0x98']\n",
      "['0x5a', '0xbd', '0x21', '0x6a', '0xab', '0x22', '0xc7', '0x50', '0x99', '0x3b', '0xc0', '0x81', '0x85', '0x4e', '0xb', '0x98']\n",
      "['0x9f', '0xbd', '0x21', '0x6a', '0xab', '0x22', '0xc7', '0x50', '0x99', '0x3b', '0xc0', '0x81', '0x85', '0x4e', '0xb', '0x98']\n",
      "['0x4c', '0xbd', '0x21', '0x6a', '0xab', '0x22', '0xc7', '0x50', '0x99', '0x3b', '0xc0', '0x81', '0x85', '0x4e', '0xb', '0x98']\n",
      "['0x4e', '0xbd', '0x21', '0x6a', '0xab', '0x22', '0xc7', '0x50', '0x99', '0x3b', '0xc0', '0x81', '0x85', '0x4e', '0xb', '0x98']\n",
      "['0x42', '0xbd', '0x21', '0x6a', '0xab', '0x22', '0xc7', '0x50', '0x99', '0x3b', '0xc0', '0x81', '0x85', '0x4e', '0xb', '0x98']\n",
      "['0xe0', '0xbd', '0x21', '0x6a', '0xab', '0x22', '0xc7', '0x50', '0x99', '0x3b', '0xc0', '0x81', '0x85', '0x4e', '0xb', '0x98']\n",
      "['0xd3', '0xbd', '0x21', '0x6a', '0xab', '0x22', '0xc7', '0x50', '0x99', '0x3b', '0xc0', '0x81', '0x85', '0x4e', '0xb', '0x98']\n",
      "['0xb1', '0xbd', '0x21', '0x6a', '0xab', '0x22', '0xc7', '0x50', '0x99', '0x3b', '0xc0', '0x81', '0x85', '0x4e', '0xb', '0x98']\n",
      "['0x8d', '0xbd', '0x21', '0x6a', '0xab', '0x22', '0xc7', '0x50', '0x99', '0x3b', '0xc0', '0x81', '0x85', '0x4e', '0xb', '0x98']\n",
      "['0x29', '0xbd', '0x21', '0x6a', '0xab', '0x22', '0xc7', '0x50', '0x99', '0x3b', '0xc0', '0x81', '0x85', '0x4e', '0xb', '0x98']\n",
      "['0xb2', '0xbd', '0x21', '0x6a', '0xab', '0x22', '0xc7', '0x50', '0x99', '0x3b', '0xc0', '0x81', '0x85', '0x4e', '0xb', '0x98']\n",
      "['0x63', '0xbd', '0x21', '0x6a', '0xab', '0x22', '0xc7', '0x50', '0x99', '0x3b', '0xc0', '0x81', '0x85', '0x4e', '0xb', '0x98']\n",
      "['0x7b', '0xbd', '0x21', '0x6a', '0xab', '0x22', '0xc7', '0x50', '0x99', '0x3b', '0xc0', '0x81', '0x85', '0x4e', '0xb', '0x98']\n",
      "['0x5e', '0xbd', '0x21', '0x6a', '0xab', '0x22', '0xc7', '0x50', '0x99', '0x3b', '0xc0', '0x81', '0x85', '0x4e', '0xb', '0x98']\n",
      "['0x3d', '0xbd', '0x21', '0x6a', '0xab', '0x22', '0xc7', '0x50', '0x99', '0x3b', '0xc0', '0x81', '0x85', '0x4e', '0xb', '0x98']\n",
      "['0x4f', '0xbd', '0x21', '0x6a', '0xab', '0x22', '0xc7', '0x50', '0x99', '0x3b', '0xc0', '0x81', '0x85', '0x4e', '0xb', '0x98']\n",
      "['0xc7', '0xbd', '0x21', '0x6a', '0xab', '0x22', '0xc7', '0x50', '0x99', '0x3b', '0xc0', '0x81', '0x85', '0x4e', '0xb', '0x98']\n",
      "['0x2c', '0xbd', '0x21', '0x6a', '0xab', '0x22', '0xc7', '0x50', '0x99', '0x3b', '0xc0', '0x81', '0x85', '0x4e', '0xb', '0x98']\n",
      "['0x1', '0xbd', '0x21', '0x6a', '0xab', '0x22', '0xc7', '0x50', '0x99', '0x3b', '0xc0', '0x81', '0x85', '0x4e', '0xb', '0x98']\n",
      "['0xd5', '0xbd', '0x21', '0x6a', '0xab', '0x22', '0xc7', '0x50', '0x99', '0x3b', '0xc0', '0x81', '0x85', '0x4e', '0xb', '0x98']\n"
     ]
    },
    {
     "ename": "KeyboardInterrupt",
     "evalue": "",
     "output_type": "error",
     "traceback": [
      "\u001b[1;31m---------------------------------------------------------------------------\u001b[0m",
      "\u001b[1;31mKeyboardInterrupt\u001b[0m                         Traceback (most recent call last)",
      "Cell \u001b[1;32mIn[39], line 44\u001b[0m\n\u001b[0;32m     40\u001b[0m target\u001b[38;5;241m.\u001b[39msimpleserial_write(\u001b[38;5;124m\"\u001b[39m\u001b[38;5;124me\u001b[39m\u001b[38;5;124m\"\u001b[39m, text)\n\u001b[0;32m     42\u001b[0m ret \u001b[38;5;241m=\u001b[39m scope\u001b[38;5;241m.\u001b[39mcapture()\n\u001b[1;32m---> 44\u001b[0m val \u001b[38;5;241m=\u001b[39m \u001b[43mtarget\u001b[49m\u001b[38;5;241;43m.\u001b[39;49m\u001b[43msimpleserial_read_witherrors\u001b[49m\u001b[43m(\u001b[49m\u001b[38;5;124;43m'\u001b[39;49m\u001b[38;5;124;43mr\u001b[39;49m\u001b[38;5;124;43m'\u001b[39;49m\u001b[43m,\u001b[49m\u001b[43m \u001b[49m\u001b[38;5;241;43m16\u001b[39;49m\u001b[43m,\u001b[49m\u001b[43m \u001b[49m\u001b[43mglitch_timeout\u001b[49m\u001b[38;5;241;43m=\u001b[39;49m\u001b[38;5;241;43m10\u001b[39;49m\u001b[43m)\u001b[49m\u001b[38;5;66;03m#For loop check\u001b[39;00m\n\u001b[0;32m     46\u001b[0m \u001b[38;5;28;01mif\u001b[39;00m ret:\n\u001b[0;32m     47\u001b[0m     \u001b[38;5;28mprint\u001b[39m(\u001b[38;5;124m'\u001b[39m\u001b[38;5;124mTimeout - no trigger\u001b[39m\u001b[38;5;124m'\u001b[39m)\n",
      "File \u001b[1;32m~\\AppData\\Local\\Packages\\PythonSoftwareFoundation.Python.3.12_qbz5n2kfra8p0\\LocalCache\\local-packages\\Python312\\site-packages\\chipwhisperer\\capture\\targets\\SimpleSerial2.py:359\u001b[0m, in \u001b[0;36mSimpleSerial2.simpleserial_read_witherrors\u001b[1;34m(self, cmd, pay_len, end, timeout, glitch_timeout, ack)\u001b[0m\n\u001b[0;32m    357\u001b[0m \u001b[38;5;28;01melse\u001b[39;00m:\n\u001b[0;32m    358\u001b[0m     recv_len \u001b[38;5;241m=\u001b[39m \u001b[38;5;241m5\u001b[39m \u001b[38;5;241m+\u001b[39m pay_len \u001b[38;5;66;03m#cmd, len, data, crc\u001b[39;00m\n\u001b[1;32m--> 359\u001b[0m response \u001b[38;5;241m=\u001b[39m \u001b[38;5;28;43mself\u001b[39;49m\u001b[38;5;241;43m.\u001b[39;49m\u001b[43mread\u001b[49m\u001b[43m(\u001b[49m\u001b[43mrecv_len\u001b[49m\u001b[43m,\u001b[49m\u001b[43m \u001b[49m\u001b[43mtimeout\u001b[49m\u001b[38;5;241;43m=\u001b[39;49m\u001b[43mtimeout\u001b[49m\u001b[43m)\u001b[49m\n\u001b[0;32m    362\u001b[0m \u001b[38;5;28;01mif\u001b[39;00m response \u001b[38;5;129;01mis\u001b[39;00m \u001b[38;5;28;01mNone\u001b[39;00m \u001b[38;5;129;01mor\u001b[39;00m \u001b[38;5;28mlen\u001b[39m(response) \u001b[38;5;241m<\u001b[39m recv_len:\n\u001b[0;32m    363\u001b[0m     \u001b[38;5;66;03m# got nothing or less than requested back\u001b[39;00m\n\u001b[0;32m    364\u001b[0m     response \u001b[38;5;241m+\u001b[39m\u001b[38;5;241m=\u001b[39m \u001b[38;5;28mself\u001b[39m\u001b[38;5;241m.\u001b[39mread(\u001b[38;5;241m1000\u001b[39m, timeout\u001b[38;5;241m=\u001b[39mglitch_timeout)\n",
      "File \u001b[1;32m~\\AppData\\Local\\Packages\\PythonSoftwareFoundation.Python.3.12_qbz5n2kfra8p0\\LocalCache\\local-packages\\Python312\\site-packages\\chipwhisperer\\capture\\targets\\SimpleSerial2.py:579\u001b[0m, in \u001b[0;36mSimpleSerial2.read\u001b[1;34m(self, num_char, timeout)\u001b[0m\n\u001b[0;32m    577\u001b[0m \u001b[38;5;28;01mif\u001b[39;00m timeout \u001b[38;5;241m==\u001b[39m \u001b[38;5;241m0\u001b[39m:\n\u001b[0;32m    578\u001b[0m     timeout \u001b[38;5;241m=\u001b[39m \u001b[38;5;241m1000000000000\u001b[39m\n\u001b[1;32m--> 579\u001b[0m \u001b[38;5;28;01mreturn\u001b[39;00m \u001b[38;5;28;43mself\u001b[39;49m\u001b[38;5;241;43m.\u001b[39;49m\u001b[43mser\u001b[49m\u001b[38;5;241;43m.\u001b[39;49m\u001b[43mread\u001b[49m\u001b[43m(\u001b[49m\u001b[43mnum_char\u001b[49m\u001b[43m,\u001b[49m\u001b[43m \u001b[49m\u001b[43mtimeout\u001b[49m\u001b[43m)\u001b[49m\n",
      "File \u001b[1;32m~\\AppData\\Local\\Packages\\PythonSoftwareFoundation.Python.3.12_qbz5n2kfra8p0\\LocalCache\\local-packages\\Python312\\site-packages\\chipwhisperer\\capture\\targets\\simpleserial_readers\\_base.py:135\u001b[0m, in \u001b[0;36mSimpleSerialTemplate.read\u001b[1;34m(self, num, timeout)\u001b[0m\n\u001b[0;32m    132\u001b[0m     \u001b[38;5;28;01mreturn\u001b[39;00m ret\u001b[38;5;241m.\u001b[39mdecode(\u001b[38;5;124m'\u001b[39m\u001b[38;5;124mlatin-1\u001b[39m\u001b[38;5;124m'\u001b[39m)\n\u001b[0;32m    134\u001b[0m \u001b[38;5;66;03m# If we didn't get enough data, try to read more from the hardware\u001b[39;00m\n\u001b[1;32m--> 135\u001b[0m data \u001b[38;5;241m=\u001b[39m \u001b[38;5;28mbytearray\u001b[39m(\u001b[38;5;28;43mself\u001b[39;49m\u001b[38;5;241;43m.\u001b[39;49m\u001b[43mhardware_read\u001b[49m\u001b[43m(\u001b[49m\u001b[43mnum\u001b[49m\u001b[43m,\u001b[49m\u001b[43m \u001b[49m\u001b[43mtimeout\u001b[49m\u001b[38;5;241;43m=\u001b[39;49m\u001b[43mtimeout\u001b[49m\u001b[43m)\u001b[49m)\u001b[38;5;241m.\u001b[39mdecode(\u001b[38;5;124m'\u001b[39m\u001b[38;5;124mlatin-1\u001b[39m\u001b[38;5;124m'\u001b[39m)\n\u001b[0;32m    136\u001b[0m \u001b[38;5;28;01mfor\u001b[39;00m c \u001b[38;5;129;01min\u001b[39;00m data:\n\u001b[0;32m    137\u001b[0m     \u001b[38;5;28mself\u001b[39m\u001b[38;5;241m.\u001b[39mterminal_queue\u001b[38;5;241m.\u001b[39mappend([\u001b[38;5;124m'\u001b[39m\u001b[38;5;124min\u001b[39m\u001b[38;5;124m'\u001b[39m, c])\n",
      "File \u001b[1;32m~\\AppData\\Local\\Packages\\PythonSoftwareFoundation.Python.3.12_qbz5n2kfra8p0\\LocalCache\\local-packages\\Python312\\site-packages\\chipwhisperer\\capture\\targets\\simpleserial_readers\\cwlite.py:72\u001b[0m, in \u001b[0;36mSimpleSerial_ChipWhispererLite.hardware_read\u001b[1;34m(self, num, timeout)\u001b[0m\n\u001b[0;32m     71\u001b[0m \u001b[38;5;28;01mdef\u001b[39;00m \u001b[38;5;21mhardware_read\u001b[39m(\u001b[38;5;28mself\u001b[39m, num, timeout\u001b[38;5;241m=\u001b[39m\u001b[38;5;241m250\u001b[39m):\n\u001b[1;32m---> 72\u001b[0m     \u001b[38;5;28;01mreturn\u001b[39;00m \u001b[38;5;28;43mself\u001b[39;49m\u001b[38;5;241;43m.\u001b[39;49m\u001b[43mcwlite_usart\u001b[49m\u001b[38;5;241;43m.\u001b[39;49m\u001b[43mread\u001b[49m\u001b[43m(\u001b[49m\u001b[43mnum\u001b[49m\u001b[43m,\u001b[49m\u001b[43m \u001b[49m\u001b[43mtimeout\u001b[49m\u001b[43m)\u001b[49m\n",
      "File \u001b[1;32m~\\AppData\\Local\\Packages\\PythonSoftwareFoundation.Python.3.12_qbz5n2kfra8p0\\LocalCache\\local-packages\\Python312\\site-packages\\chipwhisperer\\hardware\\naeusb\\serial.py:210\u001b[0m, in \u001b[0;36mUSART.read\u001b[1;34m(self, dlen, timeout)\u001b[0m\n\u001b[0;32m    208\u001b[0m \u001b[38;5;28;01mwhile\u001b[39;00m dlen \u001b[38;5;129;01mand\u001b[39;00m (timeout) \u001b[38;5;241m>\u001b[39m \u001b[38;5;241m0\u001b[39m:\n\u001b[0;32m    209\u001b[0m     \u001b[38;5;28;01mif\u001b[39;00m waiting \u001b[38;5;241m>\u001b[39m \u001b[38;5;241m0\u001b[39m:\n\u001b[1;32m--> 210\u001b[0m         newdata \u001b[38;5;241m=\u001b[39m \u001b[38;5;28;43mself\u001b[39;49m\u001b[38;5;241;43m.\u001b[39;49m\u001b[43m_usb\u001b[49m\u001b[38;5;241;43m.\u001b[39;49m\u001b[43mreadCtrl\u001b[49m\u001b[43m(\u001b[49m\u001b[38;5;28;43mself\u001b[39;49m\u001b[38;5;241;43m.\u001b[39;49m\u001b[43mCMD_USART0_DATA\u001b[49m\u001b[43m,\u001b[49m\u001b[43m \u001b[49m\u001b[43m(\u001b[49m\u001b[38;5;28;43mself\u001b[39;49m\u001b[38;5;241;43m.\u001b[39;49m\u001b[43m_usart_num\u001b[49m\u001b[43m \u001b[49m\u001b[38;5;241;43m<<\u001b[39;49m\u001b[43m \u001b[49m\u001b[38;5;241;43m8\u001b[39;49m\u001b[43m)\u001b[49m\u001b[43m,\u001b[49m\u001b[43m \u001b[49m\u001b[38;5;28;43mmin\u001b[39;49m\u001b[43m(\u001b[49m\u001b[38;5;28;43mmin\u001b[39;49m\u001b[43m(\u001b[49m\u001b[43mwaiting\u001b[49m\u001b[43m,\u001b[49m\u001b[43m \u001b[49m\u001b[43mdlen\u001b[49m\u001b[43m)\u001b[49m\u001b[43m,\u001b[49m\u001b[43m \u001b[49m\u001b[38;5;28;43mself\u001b[39;49m\u001b[38;5;241;43m.\u001b[39;49m\u001b[43m_max_read\u001b[49m\u001b[43m)\u001b[49m\u001b[43m)\u001b[49m\n\u001b[0;32m    211\u001b[0m         resp\u001b[38;5;241m.\u001b[39mextend(newdata)\n\u001b[0;32m    212\u001b[0m         dlen \u001b[38;5;241m-\u001b[39m\u001b[38;5;241m=\u001b[39m \u001b[38;5;28mlen\u001b[39m(newdata)\n",
      "File \u001b[1;32m~\\AppData\\Local\\Packages\\PythonSoftwareFoundation.Python.3.12_qbz5n2kfra8p0\\LocalCache\\local-packages\\Python312\\site-packages\\chipwhisperer\\hardware\\naeusb\\naeusb.py:749\u001b[0m, in \u001b[0;36mNAEUSB.readCtrl\u001b[1;34m(self, cmd, value, dlen)\u001b[0m\n\u001b[0;32m    745\u001b[0m \u001b[38;5;250m\u001b[39m\u001b[38;5;124;03m\"\"\"\u001b[39;00m\n\u001b[0;32m    746\u001b[0m \u001b[38;5;124;03mRead data from control endpoint\u001b[39;00m\n\u001b[0;32m    747\u001b[0m \u001b[38;5;124;03m\"\"\"\u001b[39;00m\n\u001b[0;32m    748\u001b[0m \u001b[38;5;66;03m# Vendor-specific, IN, interface control transfer\u001b[39;00m\n\u001b[1;32m--> 749\u001b[0m \u001b[38;5;28;01mreturn\u001b[39;00m \u001b[38;5;28;43mself\u001b[39;49m\u001b[38;5;241;43m.\u001b[39;49m\u001b[43musbserializer\u001b[49m\u001b[38;5;241;43m.\u001b[39;49m\u001b[43mreadCtrl\u001b[49m\u001b[43m(\u001b[49m\u001b[43mcmd\u001b[49m\u001b[43m,\u001b[49m\u001b[43m \u001b[49m\u001b[43mvalue\u001b[49m\u001b[43m,\u001b[49m\u001b[43m \u001b[49m\u001b[43mdlen\u001b[49m\u001b[43m)\u001b[49m\n",
      "File \u001b[1;32m~\\AppData\\Local\\Packages\\PythonSoftwareFoundation.Python.3.12_qbz5n2kfra8p0\\LocalCache\\local-packages\\Python312\\site-packages\\chipwhisperer\\hardware\\naeusb\\naeusb.py:487\u001b[0m, in \u001b[0;36mNAEUSB_Backend.readCtrl\u001b[1;34m(self, cmd, value, dlen)\u001b[0m\n\u001b[0;32m    483\u001b[0m \u001b[38;5;250m\u001b[39m\u001b[38;5;124;03m\"\"\"\u001b[39;00m\n\u001b[0;32m    484\u001b[0m \u001b[38;5;124;03mRead data from control endpoint\u001b[39;00m\n\u001b[0;32m    485\u001b[0m \u001b[38;5;124;03m\"\"\"\u001b[39;00m\n\u001b[0;32m    486\u001b[0m \u001b[38;5;66;03m# Vendor-specific, IN, interface control transfer\u001b[39;00m\n\u001b[1;32m--> 487\u001b[0m response \u001b[38;5;241m=\u001b[39m \u001b[38;5;28;43mself\u001b[39;49m\u001b[38;5;241;43m.\u001b[39;49m\u001b[43mhandle\u001b[49m\u001b[38;5;241;43m.\u001b[39;49m\u001b[43mcontrolRead\u001b[49m\u001b[43m(\u001b[49m\u001b[38;5;241;43m0xC1\u001b[39;49m\u001b[43m,\u001b[49m\u001b[43m \u001b[49m\u001b[43mcmd\u001b[49m\u001b[43m,\u001b[49m\u001b[43m \u001b[49m\u001b[43mvalue\u001b[49m\u001b[43m,\u001b[49m\u001b[43m \u001b[49m\u001b[38;5;241;43m0\u001b[39;49m\u001b[43m,\u001b[49m\u001b[43m \u001b[49m\u001b[43mdlen\u001b[49m\u001b[43m,\u001b[49m\u001b[43m \u001b[49m\u001b[43mtimeout\u001b[49m\u001b[38;5;241;43m=\u001b[39;49m\u001b[38;5;28;43mself\u001b[39;49m\u001b[38;5;241;43m.\u001b[39;49m\u001b[43m_timeout\u001b[49m\u001b[43m)\u001b[49m\n\u001b[0;32m    488\u001b[0m naeusb_logger\u001b[38;5;241m.\u001b[39mdebug(\u001b[38;5;124m\"\u001b[39m\u001b[38;5;124mREAD_CTRL: bmRequestType: \u001b[39m\u001b[38;5;132;01m{:02X}\u001b[39;00m\u001b[38;5;124m, \u001b[39m\u001b[38;5;130;01m\\\u001b[39;00m\n\u001b[0;32m    489\u001b[0m \u001b[38;5;124m            bRequest: \u001b[39m\u001b[38;5;132;01m{:02X}\u001b[39;00m\u001b[38;5;124m, wValue: \u001b[39m\u001b[38;5;132;01m{:04X}\u001b[39;00m\u001b[38;5;124m, wIndex: \u001b[39m\u001b[38;5;132;01m{:04X}\u001b[39;00m\u001b[38;5;124m, data_len: \u001b[39m\u001b[38;5;132;01m{:04X}\u001b[39;00m\u001b[38;5;124m, response: \u001b[39m\u001b[38;5;132;01m{}\u001b[39;00m\u001b[38;5;124m\"\u001b[39m\u001b[38;5;241m.\u001b[39mformat(\u001b[38;5;241m0xC1\u001b[39m, cmd, \\\n\u001b[0;32m    490\u001b[0m                 value, \u001b[38;5;241m0\u001b[39m, dlen, response))\n\u001b[0;32m    491\u001b[0m \u001b[38;5;28;01mreturn\u001b[39;00m response\n",
      "File \u001b[1;32m~\\AppData\\Local\\Packages\\PythonSoftwareFoundation.Python.3.12_qbz5n2kfra8p0\\LocalCache\\local-packages\\Python312\\site-packages\\usb1\\__init__.py:1350\u001b[0m, in \u001b[0;36mUSBDeviceHandle.controlRead\u001b[1;34m(self, request_type, request, value, index, length, timeout)\u001b[0m\n\u001b[0;32m   1348\u001b[0m \u001b[38;5;66;03m# pylint: enable=undefined-variable\u001b[39;00m\n\u001b[0;32m   1349\u001b[0m data, data_buffer \u001b[38;5;241m=\u001b[39m create_binary_buffer(length)\n\u001b[1;32m-> 1350\u001b[0m transferred \u001b[38;5;241m=\u001b[39m \u001b[38;5;28;43mself\u001b[39;49m\u001b[38;5;241;43m.\u001b[39;49m\u001b[43m_controlTransfer\u001b[49m\u001b[43m(\u001b[49m\n\u001b[0;32m   1351\u001b[0m \u001b[43m    \u001b[49m\u001b[43mrequest_type\u001b[49m\u001b[43m,\u001b[49m\u001b[43m \u001b[49m\u001b[43mrequest\u001b[49m\u001b[43m,\u001b[49m\u001b[43m \u001b[49m\u001b[43mvalue\u001b[49m\u001b[43m,\u001b[49m\u001b[43m \u001b[49m\u001b[43mindex\u001b[49m\u001b[43m,\u001b[49m\u001b[43m \u001b[49m\u001b[43mdata\u001b[49m\u001b[43m,\u001b[49m\u001b[43m \u001b[49m\u001b[43mlength\u001b[49m\u001b[43m,\u001b[49m\u001b[43m \u001b[49m\u001b[43mtimeout\u001b[49m\u001b[43m,\u001b[49m\n\u001b[0;32m   1352\u001b[0m \u001b[43m\u001b[49m\u001b[43m)\u001b[49m\n\u001b[0;32m   1353\u001b[0m \u001b[38;5;28;01mreturn\u001b[39;00m data_buffer[:transferred]\n",
      "File \u001b[1;32m~\\AppData\\Local\\Packages\\PythonSoftwareFoundation.Python.3.12_qbz5n2kfra8p0\\LocalCache\\local-packages\\Python312\\site-packages\\usb1\\__init__.py:1303\u001b[0m, in \u001b[0;36mUSBDeviceHandle._controlTransfer\u001b[1;34m(self, request_type, request, value, index, data, length, timeout)\u001b[0m\n\u001b[0;32m   1301\u001b[0m \u001b[38;5;28;01mdef\u001b[39;00m \u001b[38;5;21m_controlTransfer\u001b[39m(\n\u001b[0;32m   1302\u001b[0m         \u001b[38;5;28mself\u001b[39m, request_type, request, value, index, data, length, timeout):\n\u001b[1;32m-> 1303\u001b[0m     result \u001b[38;5;241m=\u001b[39m \u001b[43mlibusb1\u001b[49m\u001b[38;5;241;43m.\u001b[39;49m\u001b[43mlibusb_control_transfer\u001b[49m\u001b[43m(\u001b[49m\n\u001b[0;32m   1304\u001b[0m \u001b[43m        \u001b[49m\u001b[38;5;28;43mself\u001b[39;49m\u001b[38;5;241;43m.\u001b[39;49m\u001b[43m__handle\u001b[49m\u001b[43m,\u001b[49m\u001b[43m \u001b[49m\u001b[43mrequest_type\u001b[49m\u001b[43m,\u001b[49m\u001b[43m \u001b[49m\u001b[43mrequest\u001b[49m\u001b[43m,\u001b[49m\u001b[43m \u001b[49m\u001b[43mvalue\u001b[49m\u001b[43m,\u001b[49m\u001b[43m \u001b[49m\u001b[43mindex\u001b[49m\u001b[43m,\u001b[49m\u001b[43m \u001b[49m\u001b[43mdata\u001b[49m\u001b[43m,\u001b[49m\u001b[43m \u001b[49m\u001b[43mlength\u001b[49m\u001b[43m,\u001b[49m\n\u001b[0;32m   1305\u001b[0m \u001b[43m        \u001b[49m\u001b[43mtimeout\u001b[49m\u001b[43m,\u001b[49m\n\u001b[0;32m   1306\u001b[0m \u001b[43m    \u001b[49m\u001b[43m)\u001b[49m\n\u001b[0;32m   1307\u001b[0m     mayRaiseUSBError(result)\n\u001b[0;32m   1308\u001b[0m     \u001b[38;5;28;01mreturn\u001b[39;00m result\n",
      "\u001b[1;31mKeyboardInterrupt\u001b[0m: "
     ]
    }
   ],
   "source": [
    "from importlib import reload\n",
    "import chipwhisperer.common.results.glitch as glitch\n",
    "from tqdm.notebook import trange\n",
    "import struct\n",
    "\n",
    "#Attack 3, Voltage Glitching\n",
    "\n",
    "g_step = 1\n",
    "ct = []\n",
    "\n",
    "gc.set_global_step(g_step)\n",
    "gc.set_range(\"repeat\", 10, 15)\n",
    "gc.set_range(\"ext_offset\", 50, 400)\n",
    "scope.glitch.repeat = 0\n",
    "\n",
    "key = bytearray([2,3,4,4,5,6,7,8,9,10,11,12,13,14,15,16])\n",
    "while len(key) % 16 != 0:\n",
    "    key.append(0)\n",
    "TruncatedKey = key[:16]\n",
    "\n",
    "target.simpleserial_write('l', TruncatedKey)\n",
    "\n",
    "N = 10 #100\n",
    "\n",
    "text = bytearray([0x00,0x00,0x00,0x00,0x00,0x00,0x00,0x00,0x00,0x00,0x00,0x00,0x00,0x00,0x00,0x00])\n",
    "text = text[0:16]\n",
    "\n",
    "reboot_flush()\n",
    "sample_size = 1\n",
    "for glitch_setting in gc.glitch_values():\n",
    "    scope.glitch.repeat = glitch_setting[0]\n",
    "    scope.glitch.ext_offset = glitch_setting[1]\n",
    "    successes = 0\n",
    "    resets = 0\n",
    "    for i in range(3):\n",
    "        target.flush()\n",
    "            \n",
    "        scope.arm()\n",
    "        \n",
    "        #Do glitch loop\n",
    "        target.simpleserial_write(\"e\", text)\n",
    "        \n",
    "        ret = scope.capture()\n",
    "        \n",
    "        val = target.simpleserial_read_witherrors('r', 16, glitch_timeout=10)#For loop check\n",
    "        \n",
    "        if ret:\n",
    "            print('Timeout - no trigger')\n",
    "            gc.add(\"reset\")\n",
    "            resets += 1\n",
    "\n",
    "            #Device is slow to boot?\n",
    "            reboot_flush()\n",
    "\n",
    "        else:\n",
    "            gcnt = struct.unpack(\"<I\", val['payload'][:4])[0]\n",
    "            #Print out results \n",
    "            ct[0:16] = (val['payload'])\n",
    "            newlst = ct[0:16]\n",
    "            hex_list = [hex(x) for x in newlst]\n",
    "            print(hex_list)\n",
    "            #Increment plaintext to also check if that is different\n",
    "            text =increment_bytearray(text)\n",
    "print(\"Done glitching\")"
   ]
  },
  {
   "cell_type": "code",
   "execution_count": null,
   "metadata": {},
   "outputs": [],
   "source": []
  }
 ],
 "metadata": {
  "kernelspec": {
   "display_name": "Python 3",
   "language": "python",
   "name": "python3"
  },
  "language_info": {
   "codemirror_mode": {
    "name": "ipython",
    "version": 3
   },
   "file_extension": ".py",
   "mimetype": "text/x-python",
   "name": "python",
   "nbconvert_exporter": "python",
   "pygments_lexer": "ipython3",
   "version": "3.12.8"
  }
 },
 "nbformat": 4,
 "nbformat_minor": 4
}
